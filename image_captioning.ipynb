{
  "cells": [
    {
      "cell_type": "code",
      "execution_count": null,
      "metadata": {
        "colab": {
          "base_uri": "https://localhost:8080/"
        },
        "id": "ytoQmHFv1M8e",
        "outputId": "8f9d24a8-582f-44e2-f59a-6fb82e4bc64c"
      },
      "outputs": [
        {
          "output_type": "stream",
          "name": "stdout",
          "text": [
            "Mounted at /content/drive\n"
          ]
        }
      ],
      "source": [
        "from google.colab import drive\n",
        "drive.mount('/content/drive')"
      ]
    },
    {
      "cell_type": "code",
      "execution_count": null,
      "metadata": {
        "colab": {
          "base_uri": "https://localhost:8080/"
        },
        "id": "rX2Zyyvo1gjo",
        "outputId": "786983f5-0cff-42cc-c1fc-2ee400f61c5d"
      },
      "outputs": [
        {
          "output_type": "stream",
          "name": "stdout",
          "text": [
            "/content/drive/MyDrive\n"
          ]
        }
      ],
      "source": [
        "%cd /content/drive/MyDrive/"
      ]
    },
    {
      "cell_type": "code",
      "execution_count": null,
      "metadata": {
        "colab": {
          "base_uri": "https://localhost:8080/"
        },
        "id": "INCoe12pvraE",
        "outputId": "5be85190-d054-416b-9a4e-d4cfed4e9e86"
      },
      "outputs": [
        {
          "name": "stdout",
          "output_type": "stream",
          "text": [
            "Cloning into 'a-PyTorch-Tutorial-to-Image-Captioning'...\n",
            "remote: Enumerating objects: 272, done.\u001b[K\n",
            "remote: Total 272 (delta 0), reused 0 (delta 0), pack-reused 272 (from 1)\u001b[K\n",
            "Receiving objects: 100% (272/272), 12.89 MiB | 21.15 MiB/s, done.\n",
            "Resolving deltas: 100% (146/146), done.\n"
          ]
        }
      ],
      "source": [
        "!git clone https://github.com/sgrvinod/a-PyTorch-Tutorial-to-Image-Captioning.git"
      ]
    },
    {
      "cell_type": "code",
      "execution_count": null,
      "metadata": {
        "colab": {
          "base_uri": "https://localhost:8080/"
        },
        "id": "XsHezSHdwTb-",
        "outputId": "b0aa5fc4-af5f-4a80-8206-6165f72f061b"
      },
      "outputs": [
        {
          "output_type": "stream",
          "name": "stdout",
          "text": [
            "/content/drive/MyDrive/a-PyTorch-Tutorial-to-Image-Captioning\n"
          ]
        }
      ],
      "source": [
        "%cd a-PyTorch-Tutorial-to-Image-Captioning"
      ]
    },
    {
      "cell_type": "code",
      "execution_count": null,
      "metadata": {
        "collapsed": true,
        "id": "CUVuosrVyEL7"
      },
      "outputs": [],
      "source": [
        "#Flickr8k 데이터셋 다운로드\n",
        "!wget https://github.com/jbrownlee/Datasets/releases/download/Flickr8k/Flickr8k_Dataset.zip\n",
        "!wget https://github.com/jbrownlee/Datasets/releases/download/Flickr8k/Flickr8k_text.zip\n",
        "!wget https://cs.stanford.edu/people/karpathy/deepimagesent/caption_datasets.zip\n",
        "\n",
        "!unzip Flickr8k_Dataset.zip -d ./data/\n",
        "!unzip Flickr8k_text.zip -d ./data/\n",
        "!unzip caption_datasets.zip -d ./data/"
      ]
    },
    {
      "cell_type": "code",
      "execution_count": null,
      "metadata": {
        "colab": {
          "base_uri": "https://localhost:8080/"
        },
        "id": "2_6CEZ1l-gAT",
        "outputId": "4ff83a70-46ba-48e3-f27c-34b3155694db"
      },
      "outputs": [
        {
          "name": "stdout",
          "output_type": "stream",
          "text": [
            "\n",
            "Reading TRAIN images and captions, storing to file...\n",
            "\n",
            "100% 6000/6000 [01:07<00:00, 103.33it/s]\n",
            "\n",
            "Reading VAL images and captions, storing to file...\n",
            "\n",
            "100% 1000/1000 [00:15<00:00, 65.78it/s]\n",
            "\n",
            "Reading TEST images and captions, storing to file...\n",
            "\n",
            "100% 1000/1000 [00:09<00:00, 100.22it/s]\n"
          ]
        }
      ],
      "source": [
        "#데이터셋 전처리\n",
        "!python create_input_files.py"
      ]
    },
    {
      "cell_type": "code",
      "execution_count": null,
      "metadata": {
        "colab": {
          "base_uri": "https://localhost:8080/"
        },
        "id": "DNq3kNQP4npc",
        "outputId": "c0a8f305-b7f4-46ca-cf6a-e8b18e5b8a5e"
      },
      "outputs": [
        {
          "output_type": "stream",
          "name": "stdout",
          "text": [
            "Epoch: [8][0/938]\tBatch Time 8.613 (8.613)\tData Load Time 4.745 (4.745)\tLoss 3.2343 (3.2343)\tTop-5 Accuracy 73.784 (73.784)\n",
            "Epoch: [8][100/938]\tBatch Time 2.046 (1.836)\tData Load Time 0.012 (0.056)\tLoss 3.2352 (3.1032)\tTop-5 Accuracy 72.346 (76.496)\n",
            "Epoch: [8][200/938]\tBatch Time 1.833 (1.781)\tData Load Time 0.010 (0.033)\tLoss 2.9761 (3.1182)\tTop-5 Accuracy 74.874 (76.334)\n",
            "Epoch: [8][300/938]\tBatch Time 2.099 (1.767)\tData Load Time 0.010 (0.025)\tLoss 3.1892 (3.1240)\tTop-5 Accuracy 73.913 (76.244)\n",
            "Epoch: [8][400/938]\tBatch Time 1.550 (1.753)\tData Load Time 0.008 (0.022)\tLoss 3.1235 (3.1297)\tTop-5 Accuracy 78.592 (76.183)\n",
            "Epoch: [8][500/938]\tBatch Time 1.672 (1.755)\tData Load Time 0.009 (0.019)\tLoss 3.0933 (3.1359)\tTop-5 Accuracy 76.963 (76.067)\n",
            "Epoch: [8][600/938]\tBatch Time 1.665 (1.760)\tData Load Time 0.010 (0.018)\tLoss 3.1429 (3.1363)\tTop-5 Accuracy 76.648 (76.051)\n",
            "Epoch: [8][700/938]\tBatch Time 1.801 (1.766)\tData Load Time 0.008 (0.017)\tLoss 2.8980 (3.1401)\tTop-5 Accuracy 80.481 (76.009)\n",
            "Epoch: [8][800/938]\tBatch Time 1.825 (1.772)\tData Load Time 0.008 (0.016)\tLoss 3.1116 (3.1440)\tTop-5 Accuracy 76.179 (75.951)\n",
            "Epoch: [8][900/938]\tBatch Time 1.908 (1.773)\tData Load Time 0.008 (0.015)\tLoss 3.1404 (3.1471)\tTop-5 Accuracy 77.660 (75.893)\n",
            "Validation: [0/157]\tBatch Time 8.916 (8.916)\tLoss 3.7155 (3.7155)\tTop-5 Accuracy 66.577 (66.577)\t\n",
            "Validation: [100/157]\tBatch Time 1.042 (1.217)\tLoss 3.8558 (3.5981)\tTop-5 Accuracy 64.691 (69.796)\t\n",
            "\n",
            " * LOSS - 3.614, TOP-5 ACCURACY - 69.664, BLEU-4 - 0.160987342367444\n",
            "\n",
            "\n",
            "Epochs since last improvement: 1\n",
            "\n",
            "Epoch: [9][0/938]\tBatch Time 7.366 (7.366)\tData Load Time 0.162 (0.162)\tLoss 2.9787 (2.9787)\tTop-5 Accuracy 77.638 (77.638)\n",
            "Epoch: [9][100/938]\tBatch Time 1.845 (1.871)\tData Load Time 0.008 (0.011)\tLoss 3.2191 (3.0484)\tTop-5 Accuracy 76.567 (77.426)\n",
            "Epoch: [9][200/938]\tBatch Time 1.777 (1.824)\tData Load Time 0.009 (0.010)\tLoss 3.1335 (3.0346)\tTop-5 Accuracy 75.198 (77.726)\n",
            "Epoch: [9][300/938]\tBatch Time 2.158 (1.815)\tData Load Time 0.010 (0.010)\tLoss 3.1642 (3.0465)\tTop-5 Accuracy 75.066 (77.484)\n",
            "Epoch: [9][400/938]\tBatch Time 1.712 (1.811)\tData Load Time 0.009 (0.010)\tLoss 3.1539 (3.0515)\tTop-5 Accuracy 74.373 (77.344)\n",
            "Epoch: [9][500/938]\tBatch Time 2.066 (1.810)\tData Load Time 0.010 (0.010)\tLoss 3.1257 (3.0565)\tTop-5 Accuracy 77.667 (77.276)\n",
            "Epoch: [9][600/938]\tBatch Time 1.704 (1.809)\tData Load Time 0.008 (0.010)\tLoss 3.1400 (3.0610)\tTop-5 Accuracy 76.559 (77.226)\n",
            "Epoch: [9][700/938]\tBatch Time 1.732 (1.807)\tData Load Time 0.009 (0.010)\tLoss 3.2769 (3.0661)\tTop-5 Accuracy 73.210 (77.133)\n",
            "Epoch: [9][800/938]\tBatch Time 1.885 (1.806)\tData Load Time 0.010 (0.010)\tLoss 3.1842 (3.0708)\tTop-5 Accuracy 77.340 (77.075)\n",
            "Epoch: [9][900/938]\tBatch Time 2.051 (1.804)\tData Load Time 0.017 (0.010)\tLoss 3.0908 (3.0727)\tTop-5 Accuracy 77.419 (77.036)\n",
            "Validation: [0/157]\tBatch Time 3.766 (3.766)\tLoss 3.6053 (3.6053)\tTop-5 Accuracy 68.868 (68.868)\t\n",
            "Validation: [100/157]\tBatch Time 1.125 (1.174)\tLoss 3.9346 (3.6239)\tTop-5 Accuracy 65.578 (69.558)\t\n",
            "\n",
            " * LOSS - 3.629, TOP-5 ACCURACY - 69.473, BLEU-4 - 0.15905162228424072\n",
            "\n",
            "\n",
            "Epochs since last improvement: 2\n",
            "\n",
            "Epoch: [10][0/938]\tBatch Time 6.844 (6.844)\tData Load Time 0.172 (0.172)\tLoss 2.9073 (2.9073)\tTop-5 Accuracy 78.780 (78.780)\n",
            "Epoch: [10][100/938]\tBatch Time 1.770 (1.871)\tData Load Time 0.010 (0.011)\tLoss 2.7506 (2.9466)\tTop-5 Accuracy 81.347 (79.068)\n",
            "Epoch: [10][200/938]\tBatch Time 1.983 (1.845)\tData Load Time 0.010 (0.011)\tLoss 3.1396 (2.9657)\tTop-5 Accuracy 72.506 (78.676)\n",
            "Epoch: [10][300/938]\tBatch Time 1.760 (1.839)\tData Load Time 0.009 (0.010)\tLoss 3.1308 (2.9693)\tTop-5 Accuracy 75.369 (78.563)\n",
            "Epoch: [10][400/938]\tBatch Time 2.016 (1.836)\tData Load Time 0.011 (0.010)\tLoss 3.1628 (2.9769)\tTop-5 Accuracy 76.804 (78.437)\n",
            "Epoch: [10][500/938]\tBatch Time 1.622 (1.832)\tData Load Time 0.009 (0.010)\tLoss 3.0565 (2.9808)\tTop-5 Accuracy 75.405 (78.381)\n",
            "Epoch: [10][600/938]\tBatch Time 1.802 (1.824)\tData Load Time 0.018 (0.010)\tLoss 3.0520 (2.9870)\tTop-5 Accuracy 77.654 (78.297)\n",
            "Epoch: [10][700/938]\tBatch Time 1.754 (1.824)\tData Load Time 0.008 (0.010)\tLoss 2.8753 (2.9892)\tTop-5 Accuracy 80.357 (78.251)\n",
            "Epoch: [10][800/938]\tBatch Time 1.763 (1.822)\tData Load Time 0.009 (0.010)\tLoss 3.1060 (2.9931)\tTop-5 Accuracy 75.549 (78.225)\n",
            "Epoch: [10][900/938]\tBatch Time 1.961 (1.820)\tData Load Time 0.010 (0.010)\tLoss 2.8753 (2.9981)\tTop-5 Accuracy 80.679 (78.157)\n",
            "Validation: [0/157]\tBatch Time 3.933 (3.933)\tLoss 3.6601 (3.6601)\tTop-5 Accuracy 70.777 (70.777)\t\n",
            "Validation: [100/157]\tBatch Time 1.048 (1.184)\tLoss 3.6837 (3.6174)\tTop-5 Accuracy 68.768 (70.060)\t\n",
            "\n",
            " * LOSS - 3.626, TOP-5 ACCURACY - 69.795, BLEU-4 - 0.16103435246890105\n",
            "\n",
            "\n",
            "Epochs since last improvement: 3\n",
            "\n",
            "Epoch: [11][0/938]\tBatch Time 7.313 (7.313)\tData Load Time 0.175 (0.175)\tLoss 2.7936 (2.7936)\tTop-5 Accuracy 83.166 (83.166)\n",
            "Epoch: [11][100/938]\tBatch Time 1.777 (1.904)\tData Load Time 0.015 (0.012)\tLoss 2.5862 (2.9016)\tTop-5 Accuracy 85.714 (79.899)\n",
            "Epoch: [11][200/938]\tBatch Time 1.704 (1.864)\tData Load Time 0.009 (0.011)\tLoss 2.9212 (2.9001)\tTop-5 Accuracy 77.660 (79.720)\n",
            "Epoch: [11][300/938]\tBatch Time 1.721 (1.822)\tData Load Time 0.009 (0.010)\tLoss 2.9804 (2.9019)\tTop-5 Accuracy 76.243 (79.723)\n"
          ]
        }
      ],
      "source": [
        "#Traning\n",
        "!python train.py --data_folder /content/drive/MyDrive/a-PyTorch-Tutorial-to-Image-Captioning/data/Flicker8k_Dataset --data_name flickr8k_5_cap_per_img_5_min_word_freq --save_name 'caption_model_flickr8k' --batch_size 8 --workers 1 --epochs 10 --encoder_lr 1e-4 --decoder_lr 4e-4 --grad_clip 5. --fine_tune_encoder --dropout 0.5"
      ]
    },
    {
      "cell_type": "code",
      "source": [
        "#Inference\n",
        "!python caption.py --img='/content/drive/MyDrive/a-PyTorch-Tutorial-to-Image-Captioning/test/test3.jpg' --model='/content/drive/MyDrive/a-PyTorch-Tutorial-to-Image-Captioning/BEST_checkpoint_flickr8k_5_cap_per_img_5_min_word_freq.pth.tar' --word_map='/content/drive/MyDrive/a-PyTorch-Tutorial-to-Image-Captioning/data/Flicker8k_Dataset/WORDMAP_flickr8k_5_cap_per_img_5_min_word_freq.json' --beam_size=5"
      ],
      "metadata": {
        "colab": {
          "base_uri": "https://localhost:8080/"
        },
        "id": "02CC6KDEhSuP",
        "outputId": "368096d4-e245-43ca-dc25-70864cc2d1e5"
      },
      "execution_count": null,
      "outputs": [
        {
          "output_type": "stream",
          "name": "stdout",
          "text": [
            "/content/drive/MyDrive/a-PyTorch-Tutorial-to-Image-Captioning/caption.py:231: FutureWarning: You are using `torch.load` with `weights_only=False` (the current default value), which uses the default pickle module implicitly. It is possible to construct malicious pickle data which will execute arbitrary code during unpickling (See https://github.com/pytorch/pytorch/blob/main/SECURITY.md#untrusted-models for more details). In a future release, the default value for `weights_only` will be flipped to `True`. This limits the functions that could be executed during unpickling. Arbitrary objects will no longer be allowed to be loaded via this mode unless they are explicitly allowlisted by the user via `torch.serialization.add_safe_globals`. We recommend you start setting `weights_only=True` for any use case where you don't have full control of the loaded file. Please open an issue on GitHub for any issues related to this experimental feature.\n",
            "  checkpoint = torch.load(args.model, map_location=str(device))\n",
            "/content/drive/MyDrive/a-PyTorch-Tutorial-to-Image-Captioning/caption.py:34: DeprecationWarning: Starting with ImageIO v3 the behavior of this function will switch to that of iio.v3.imread. To keep the current behavior (and make this warning disappear) use `import imageio.v2 as imageio` or call `imageio.v2.imread` directly.\n",
            "  img = imageio.imread(image_path)\n",
            "Saved visualization to /content/drive/MyDrive/a-PyTorch-Tutorial-to-Image-Captioning/test/test3_output.png\n"
          ]
        }
      ]
    }
  ],
  "metadata": {
    "accelerator": "TPU",
    "colab": {
      "gpuType": "V28",
      "provenance": []
    },
    "kernelspec": {
      "display_name": "Python 3",
      "name": "python3"
    },
    "language_info": {
      "name": "python"
    }
  },
  "nbformat": 4,
  "nbformat_minor": 0
}